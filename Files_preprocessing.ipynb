{
 "cells": [
  {
   "cell_type": "code",
   "execution_count": null,
   "id": "ae7e42fe-02d6-4f02-951f-d1d11854705f",
   "metadata": {},
   "outputs": [
    {
     "name": "stdout",
     "output_type": "stream",
     "text": [
      "Dossier créé : data\\train\n",
      "Dossier créé : data\\test\n",
      "Dossier créé : data\\val\n",
      "Structure de dossiers créée avec succès !\n"
     ]
    }
   ],
   "source": [
    "import os\n",
    "\n",
    "# Chemin vers le dossier principal\n",
    "base_path = \"01_data\"\n",
    "\n",
    "# Noms des sous-dossiers\n",
    "subfolders = [\"train\", \"test\", \"val\"]\n",
    "\n",
    "# Création du dossier principal et des sous-dossiers\n",
    "for folder in subfolders:\n",
    "    path = os.path.join(base_path, folder)\n",
    "    os.makedirs(path, exist_ok=True)\n",
    "    print(f\"Dossier créé : {path}\")\n",
    "\n",
    "print(\"Structure de dossiers créée avec succès !\")\n"
   ]
  },
  {
   "cell_type": "code",
   "execution_count": null,
   "id": "3f29e6b2-47a0-4a67-919e-cacf3aab0b5f",
   "metadata": {},
   "outputs": [
    {
     "name": "stdout",
     "output_type": "stream",
     "text": [
      "80 images copiées pour A dans data\\train\\A\n",
      "30 images copiées pour A dans data\\test\\A\n",
      "20 images copiées pour A dans data\\val\\A\n",
      "80 images copiées pour B dans data\\train\\B\n",
      "30 images copiées pour B dans data\\test\\B\n",
      "20 images copiées pour B dans data\\val\\B\n",
      "80 images copiées pour C dans data\\train\\C\n",
      "30 images copiées pour C dans data\\test\\C\n",
      "20 images copiées pour C dans data\\val\\C\n",
      "80 images copiées pour D dans data\\train\\D\n",
      "30 images copiées pour D dans data\\test\\D\n",
      "20 images copiées pour D dans data\\val\\D\n",
      "80 images copiées pour E dans data\\train\\E\n",
      "30 images copiées pour E dans data\\test\\E\n",
      "20 images copiées pour E dans data\\val\\E\n",
      "80 images copiées pour F dans data\\train\\F\n",
      "30 images copiées pour F dans data\\test\\F\n",
      "20 images copiées pour F dans data\\val\\F\n",
      "80 images copiées pour G dans data\\train\\G\n",
      "30 images copiées pour G dans data\\test\\G\n",
      "20 images copiées pour G dans data\\val\\G\n",
      "80 images copiées pour H dans data\\train\\H\n",
      "30 images copiées pour H dans data\\test\\H\n",
      "20 images copiées pour H dans data\\val\\H\n"
     ]
    }
   ],
   "source": [
    "import os\n",
    "import shutil\n",
    "import random\n",
    "\n",
    "# Chemins vers les dossiers\n",
    "pokemon_folder = \"00_raw_data\"  # Dossier contenant les images de tous les Pokémon\n",
    "output_base_path = \"01_data\"    # Dossier de sortie principal (contenant train, test, val)\n",
    "\n",
    "# Noms des sous-dossiers de sortie et le nombre d'images souhaité pour chacun\n",
    "splits = {\"train\": 120, \"test\": 60, \"val\": 20}\n",
    "\n",
    "def organize_pokemon_images(pokemon_names):\n",
    "    for pokemon_name in pokemon_names:\n",
    "        # Chemin vers le dossier du Pokémon\n",
    "        pokemon_path = os.path.join(pokemon_folder, pokemon_name)\n",
    "\n",
    "        # Vérifie que le dossier existe\n",
    "        if not os.path.isdir(pokemon_path):\n",
    "            print(f\"Erreur : le dossier {pokemon_path} n'existe pas.\")\n",
    "            continue\n",
    "\n",
    "        # Liste toutes les images du dossier\n",
    "        images = [img for img in os.listdir(pokemon_path) if img.endswith(('.png', '.jpg', '.jpeg'))]\n",
    "\n",
    "        # Vérifie s'il y a assez d'images\n",
    "        total_images_needed = sum(splits.values())\n",
    "        if len(images) < total_images_needed:\n",
    "            print(f\"Erreur : {pokemon_name} ne possède pas assez d'images (minimum requis : {total_images_needed}).\")\n",
    "            continue\n",
    "\n",
    "        # Mélange les images pour un tirage aléatoire sans doublon\n",
    "        random.shuffle(images)\n",
    "\n",
    "        # Distribution des images dans train, test, et val\n",
    "        current_index = 0\n",
    "        for split_name, num_images in splits.items():\n",
    "            split_path = os.path.join(output_base_path, split_name, pokemon_name)\n",
    "            os.makedirs(split_path, exist_ok=True)\n",
    "\n",
    "            for i in range(num_images):\n",
    "                # Déterminer le nom de la nouvelle image\n",
    "                src_image_path = os.path.join(pokemon_path, images[current_index])\n",
    "                dest_image_path = os.path.join(split_path, f\"{i}.jpg\")  # Renomme en ordre séquentiel\n",
    "\n",
    "                # Copie l'image\n",
    "                shutil.copy(src_image_path, dest_image_path)\n",
    "                current_index += 1\n",
    "\n",
    "            print(f\"{num_images} images copiées pour {pokemon_name} dans {split_path}\")\n",
    "\n",
    "# Exemple d'utilisation avec une liste de Pokémon\n",
    "pokemon_list = [\"A\",\"B\",\"C\",\"D\",\"E\",\"F\",\"G\",\"H\"]\n",
    "organize_pokemon_images(pokemon_list)"
   ]
  }
 ],
 "metadata": {
  "kernelspec": {
   "display_name": "Python 3",
   "language": "python",
   "name": "python3"
  },
  "language_info": {
   "codemirror_mode": {
    "name": "ipython",
    "version": 3
   },
   "file_extension": ".py",
   "mimetype": "text/x-python",
   "name": "python",
   "nbconvert_exporter": "python",
   "pygments_lexer": "ipython3",
   "version": "3.12.5"
  }
 },
 "nbformat": 4,
 "nbformat_minor": 5
}
